{
 "cells": [
  {
   "cell_type": "code",
   "execution_count": 1,
   "id": "0274a3ad",
   "metadata": {},
   "outputs": [
    {
     "name": "stdout",
     "output_type": "stream",
     "text": [
      "Estimated Policy Price: 6163.540677777778\n",
      "Standard Deviation: 7392.117375773013\n",
      "95% Confidence Interval: 0.0 - 19645.29064\n"
     ]
    }
   ],
   "source": [
    "import numpy as np\n",
    "\n",
    "# Define the dataset\n",
    "dataset = [\n",
    "    [19, \"female\", 27.9, 0, \"yes\", \"southwest\", 16884.924],\n",
    "    [18, \"male\", 33.77, 1, \"no\", \"southeast\", 1725.5523],\n",
    "    [28, \"male\", 33, 3, \"no\", \"southeast\", 4449.462],\n",
    "    [33, \"male\", 22.705, 0, \"no\", \"northwest\", 21984.47061],\n",
    "    [32, \"male\", 28.88, 0, \"no\", \"northwest\", 3866.8552],\n",
    "    [31, \"female\", 25.74, 0, \"no\", \"southeast\", 3756.6216],\n",
    "    [46, \"female\", 33.44, 1, \"no\", \"southeast\", 8240.5896],\n",
    "    [37, \"female\", 27.74, 3, \"no\", \"northwest\", 7281.5056],\n",
    "    [37, \"male\", 29.83, 2, \"no\", \"northeast\", 6406.4107]\n",
    "]\n",
    "\n",
    "# Extract relevant columns\n",
    "claim_amounts = [data[6] for data in dataset]\n",
    "claim_frequencies = [data[3] for data in dataset]\n",
    "\n",
    "# Define other variables\n",
    "deductible = 500\n",
    "\n",
    "# Set the number of simulations\n",
    "num_simulations = len(claim_amounts)\n",
    "\n",
    "# Perform the Monte Carlo simulation\n",
    "policy_prices = []\n",
    "for i in range(num_simulations):\n",
    "    total_claims = claim_amounts[i] * claim_frequencies[i]\n",
    "    policy_price = max(total_claims - deductible, 0)\n",
    "    policy_prices.append(policy_price)\n",
    "\n",
    "# Calculate statistics\n",
    "average_policy_price = np.mean(policy_prices)\n",
    "std_dev_policy_price = np.std(policy_prices)\n",
    "confidence_interval = np.percentile(policy_prices, [2.5, 97.5])\n",
    "\n",
    "# Print the results\n",
    "print(\"Estimated Policy Price:\", average_policy_price)\n",
    "print(\"Standard Deviation:\", std_dev_policy_price)\n",
    "print(\"95% Confidence Interval:\", confidence_interval[0], \"-\", confidence_interval[1])\n"
   ]
  },
  {
   "cell_type": "code",
   "execution_count": null,
   "id": "1b18f125",
   "metadata": {},
   "outputs": [],
   "source": []
  }
 ],
 "metadata": {
  "kernelspec": {
   "display_name": "Python 3 (ipykernel)",
   "language": "python",
   "name": "python3"
  },
  "language_info": {
   "codemirror_mode": {
    "name": "ipython",
    "version": 3
   },
   "file_extension": ".py",
   "mimetype": "text/x-python",
   "name": "python",
   "nbconvert_exporter": "python",
   "pygments_lexer": "ipython3",
   "version": "3.9.13"
  }
 },
 "nbformat": 4,
 "nbformat_minor": 5
}
